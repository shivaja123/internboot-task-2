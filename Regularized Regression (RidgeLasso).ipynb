{
 "cells": [
  {
   "cell_type": "code",
   "execution_count": 1,
   "id": "b514345d",
   "metadata": {},
   "outputs": [],
   "source": [
    "import pandas as pd\n",
    "import numpy as np\n",
    "from sklearn.model_selection import train_test_split\n",
    "from sklearn.linear_model import LinearRegression, Ridge, Lasso\n",
    "from sklearn.metrics import mean_squared_error, mean_absolute_error, r2_score\n",
    "from sklearn.preprocessing import LabelEncoder, StandardScaler\n"
   ]
  },
  {
   "cell_type": "code",
   "execution_count": 2,
   "id": "e08ecf03",
   "metadata": {},
   "outputs": [],
   "source": [
    "df = pd.read_csv(\"C:/Users/91939/OneDrive/Desktop/task-1/test.csv\")"
   ]
  },
  {
   "cell_type": "code",
   "execution_count": 15,
   "id": "9b5e671b",
   "metadata": {},
   "outputs": [],
   "source": [
    "# Convert date to datetime\n",
    "df['date'] = pd.to_datetime(df['date'])\n",
    "\n",
    "# Extract useful time features\n",
    "df['year'] = df['date'].dt.year\n",
    "df['month'] = df['date'].dt.month\n",
    "df['day'] = df['date'].dt.day\n",
    "df['dayofweek'] = df['date'].dt.dayofweek\n",
    "\n",
    "# Drop original date\n",
    "X = df.drop(columns=['id','sales','date'])\n",
    "y = df['sales']"
   ]
  },
  {
   "cell_type": "code",
   "execution_count": 16,
   "id": "2e8fe378",
   "metadata": {},
   "outputs": [],
   "source": [
    "\n",
    "df['sales'] = df['onpromotion'] * np.random.randint(10, 50, size=len(df))\n"
   ]
  },
  {
   "cell_type": "code",
   "execution_count": 17,
   "id": "d3e7ab0b",
   "metadata": {},
   "outputs": [
    {
     "data": {
      "text/plain": [
       "Index(['id', 'date', 'store_nbr', 'family', 'onpromotion', 'sales', 'year',\n",
       "       'month', 'day', 'dayofweek'],\n",
       "      dtype='object')"
      ]
     },
     "execution_count": 17,
     "metadata": {},
     "output_type": "execute_result"
    }
   ],
   "source": [
    "df.columns"
   ]
  },
  {
   "cell_type": "code",
   "execution_count": 18,
   "id": "6630a7d9",
   "metadata": {},
   "outputs": [
    {
     "data": {
      "text/html": [
       "<div>\n",
       "<style scoped>\n",
       "    .dataframe tbody tr th:only-of-type {\n",
       "        vertical-align: middle;\n",
       "    }\n",
       "\n",
       "    .dataframe tbody tr th {\n",
       "        vertical-align: top;\n",
       "    }\n",
       "\n",
       "    .dataframe thead th {\n",
       "        text-align: right;\n",
       "    }\n",
       "</style>\n",
       "<table border=\"1\" class=\"dataframe\">\n",
       "  <thead>\n",
       "    <tr style=\"text-align: right;\">\n",
       "      <th></th>\n",
       "      <th>id</th>\n",
       "      <th>date</th>\n",
       "      <th>store_nbr</th>\n",
       "      <th>family</th>\n",
       "      <th>onpromotion</th>\n",
       "      <th>sales</th>\n",
       "      <th>year</th>\n",
       "      <th>month</th>\n",
       "      <th>day</th>\n",
       "      <th>dayofweek</th>\n",
       "    </tr>\n",
       "  </thead>\n",
       "  <tbody>\n",
       "    <tr>\n",
       "      <th>0</th>\n",
       "      <td>3000888</td>\n",
       "      <td>2017-08-16</td>\n",
       "      <td>1</td>\n",
       "      <td>0</td>\n",
       "      <td>0</td>\n",
       "      <td>0</td>\n",
       "      <td>2017</td>\n",
       "      <td>8</td>\n",
       "      <td>16</td>\n",
       "      <td>2</td>\n",
       "    </tr>\n",
       "    <tr>\n",
       "      <th>1</th>\n",
       "      <td>3000889</td>\n",
       "      <td>2017-08-16</td>\n",
       "      <td>1</td>\n",
       "      <td>1</td>\n",
       "      <td>0</td>\n",
       "      <td>0</td>\n",
       "      <td>2017</td>\n",
       "      <td>8</td>\n",
       "      <td>16</td>\n",
       "      <td>2</td>\n",
       "    </tr>\n",
       "    <tr>\n",
       "      <th>2</th>\n",
       "      <td>3000890</td>\n",
       "      <td>2017-08-16</td>\n",
       "      <td>1</td>\n",
       "      <td>2</td>\n",
       "      <td>2</td>\n",
       "      <td>20</td>\n",
       "      <td>2017</td>\n",
       "      <td>8</td>\n",
       "      <td>16</td>\n",
       "      <td>2</td>\n",
       "    </tr>\n",
       "    <tr>\n",
       "      <th>3</th>\n",
       "      <td>3000891</td>\n",
       "      <td>2017-08-16</td>\n",
       "      <td>1</td>\n",
       "      <td>3</td>\n",
       "      <td>20</td>\n",
       "      <td>640</td>\n",
       "      <td>2017</td>\n",
       "      <td>8</td>\n",
       "      <td>16</td>\n",
       "      <td>2</td>\n",
       "    </tr>\n",
       "    <tr>\n",
       "      <th>4</th>\n",
       "      <td>3000892</td>\n",
       "      <td>2017-08-16</td>\n",
       "      <td>1</td>\n",
       "      <td>4</td>\n",
       "      <td>0</td>\n",
       "      <td>0</td>\n",
       "      <td>2017</td>\n",
       "      <td>8</td>\n",
       "      <td>16</td>\n",
       "      <td>2</td>\n",
       "    </tr>\n",
       "  </tbody>\n",
       "</table>\n",
       "</div>"
      ],
      "text/plain": [
       "        id       date  store_nbr  family  onpromotion  sales  year  month  \\\n",
       "0  3000888 2017-08-16          1       0            0      0  2017      8   \n",
       "1  3000889 2017-08-16          1       1            0      0  2017      8   \n",
       "2  3000890 2017-08-16          1       2            2     20  2017      8   \n",
       "3  3000891 2017-08-16          1       3           20    640  2017      8   \n",
       "4  3000892 2017-08-16          1       4            0      0  2017      8   \n",
       "\n",
       "   day  dayofweek  \n",
       "0   16          2  \n",
       "1   16          2  \n",
       "2   16          2  \n",
       "3   16          2  \n",
       "4   16          2  "
      ]
     },
     "execution_count": 18,
     "metadata": {},
     "output_type": "execute_result"
    }
   ],
   "source": [
    "df.head()"
   ]
  },
  {
   "cell_type": "code",
   "execution_count": 19,
   "id": "531c0696",
   "metadata": {},
   "outputs": [],
   "source": [
    "# Drop original date\n",
    "X = df.drop(columns=['id','sales','date'])\n",
    "y = df['sales']\n"
   ]
  },
  {
   "cell_type": "code",
   "execution_count": 20,
   "id": "9fd52077",
   "metadata": {},
   "outputs": [],
   "source": [
    "# Encode categorical columns\n",
    "from sklearn.preprocessing import LabelEncoder\n",
    "for col in ['store_nbr','family']:\n",
    "    if df[col].dtype == 'object':\n",
    "        le = LabelEncoder()\n",
    "        df[col] = le.fit_transform(df[col])"
   ]
  },
  {
   "cell_type": "code",
   "execution_count": 21,
   "id": "3cc40205",
   "metadata": {},
   "outputs": [
    {
     "name": "stdout",
     "output_type": "stream",
     "text": [
      "Final features: Index(['store_nbr', 'family', 'onpromotion', 'year', 'month', 'day',\n",
      "       'dayofweek'],\n",
      "      dtype='object')\n",
      "Scaled X_train shape: (22809, 7)\n"
     ]
    }
   ],
   "source": [
    "# Train/test split + scaling\n",
    "from sklearn.model_selection import train_test_split\n",
    "from sklearn.preprocessing import StandardScaler\n",
    "\n",
    "X_train, X_test, y_train, y_test = train_test_split(X, y, test_size=0.2, random_state=42)\n",
    "\n",
    "scaler = StandardScaler()\n",
    "X_train_scaled = scaler.fit_transform(X_train)\n",
    "X_test_scaled = scaler.transform(X_test)\n",
    "\n",
    "print(\"Final features:\", X.columns)\n",
    "print(\"Scaled X_train shape:\", X_train_scaled.shape)"
   ]
  },
  {
   "cell_type": "code",
   "execution_count": 22,
   "id": "87c34141",
   "metadata": {},
   "outputs": [],
   "source": [
    "# Baseline Linear Regression\n",
    "lin_reg = LinearRegression()\n",
    "lin_reg.fit(X_train_scaled, y_train)\n",
    "y_pred_lin = lin_reg.predict(X_test_scaled)"
   ]
  },
  {
   "cell_type": "code",
   "execution_count": 23,
   "id": "cc0e4bd2",
   "metadata": {},
   "outputs": [],
   "source": [
    "# Ridge Regression\n",
    "ridge = Ridge(alpha=1.0)\n",
    "ridge.fit(X_train_scaled, y_train)\n",
    "y_pred_ridge = ridge.predict(X_test_scaled)\n"
   ]
  },
  {
   "cell_type": "code",
   "execution_count": 24,
   "id": "213d7ab2",
   "metadata": {},
   "outputs": [],
   "source": [
    "# Lasso Regression\n",
    "lasso = Lasso(alpha=0.01)  # small alpha keeps more features\n",
    "lasso.fit(X_train_scaled, y_train)\n",
    "y_pred_lasso = lasso.predict(X_test_scaled)\n"
   ]
  },
  {
   "cell_type": "code",
   "execution_count": 25,
   "id": "30307562",
   "metadata": {},
   "outputs": [
    {
     "name": "stdout",
     "output_type": "stream",
     "text": [
      "\n",
      "Linear Regression Performance:\n",
      "R² Score: 0.8483318984705309\n",
      "MAE: 71.99877783561651\n",
      "RMSE: 246.5516487185128\n",
      "\n",
      "Ridge Regression Performance:\n",
      "R² Score: 0.8483330186343476\n",
      "MAE: 71.99360375461679\n",
      "RMSE: 246.55073824774468\n",
      "\n",
      "Lasso Regression Performance:\n",
      "R² Score: 0.848332310467019\n",
      "MAE: 71.99726672211276\n",
      "RMSE: 246.55131384756316\n"
     ]
    }
   ],
   "source": [
    "# Evaluation function\n",
    "def evaluate(y_test, y_pred, model_name):\n",
    "    print(f\"\\n{model_name} Performance:\")\n",
    "    print(\"R² Score:\", r2_score(y_test, y_pred))\n",
    "    print(\"MAE:\", mean_absolute_error(y_test, y_pred))\n",
    "    print(\"RMSE:\", np.sqrt(mean_squared_error(y_test, y_pred)))\n",
    "\n",
    "evaluate(y_test, y_pred_lin, \"Linear Regression\")\n",
    "evaluate(y_test, y_pred_ridge, \"Ridge Regression\")\n",
    "evaluate(y_test, y_pred_lasso, \"Lasso Regression\")"
   ]
  },
  {
   "cell_type": "code",
   "execution_count": 26,
   "id": "6844a2f4",
   "metadata": {},
   "outputs": [
    {
     "name": "stdout",
     "output_type": "stream",
     "text": [
      "\n",
      "Feature Coefficients - Ridge:\n",
      "store_nbr: -0.4373\n",
      "family: 0.1909\n",
      "onpromotion: 643.2617\n",
      "year: 0.0000\n",
      "month: 0.0000\n",
      "day: 2.7784\n",
      "dayofweek: 1.3529\n",
      "\n",
      "Feature Coefficients - Lasso (many may shrink to 0):\n",
      "store_nbr: -0.4276\n",
      "family: 0.1820\n",
      "onpromotion: 643.2788\n",
      "year: 0.0000\n",
      "month: 0.0000\n",
      "day: 2.7673\n",
      "dayofweek: 1.3418\n"
     ]
    }
   ],
   "source": [
    "# Feature importance (coefficients)\n",
    "feature_names = X.columns\n",
    "\n",
    "print(\"\\nFeature Coefficients - Ridge:\")\n",
    "for f, c in zip(feature_names, ridge.coef_):\n",
    "    print(f\"{f}: {c:.4f}\")\n",
    "\n",
    "print(\"\\nFeature Coefficients - Lasso (many may shrink to 0):\")\n",
    "for f, c in zip(feature_names, lasso.coef_):\n",
    "    print(f\"{f}: {c:.4f}\")"
   ]
  },
  {
   "cell_type": "code",
   "execution_count": 27,
   "id": "3d07239d",
   "metadata": {},
   "outputs": [
    {
     "data": {
      "image/png": "[encoded data removed]",
      "text/plain": [
       "<Figure size 1000x600 with 1 Axes>"
      ]
     },
     "metadata": {},
     "output_type": "display_data"
    }
   ],
   "source": [
    "import matplotlib.pyplot as plt\n",
    "\n",
    "# Plot coefficients\n",
    "plt.figure(figsize=(10,6))\n",
    "plt.barh(feature_names, ridge.coef_, label=\"Ridge\")\n",
    "plt.barh(feature_names, lasso.coef_, alpha=0.6, label=\"Lasso\")\n",
    "plt.title(\"Feature Importance (Ridge vs Lasso)\")\n",
    "plt.xlabel(\"Coefficient Value\")\n",
    "plt.legend()\n",
    "plt.show()\n"
   ]
  },
  {
   "cell_type": "code",
   "execution_count": null,
   "id": "be30e71e",
   "metadata": {},
   "outputs": [],
   "source": []
  }
 ],
 "metadata": {
  "kernelspec": {
   "display_name": "Python 3 (ipykernel)",
   "language": "python",
   "name": "python3"
  },
  "language_info": {
   "codemirror_mode": {
    "name": "ipython",
    "version": 3
   },
   "file_extension": ".py",
   "mimetype": "text/x-python",
   "name": "python",
   "nbconvert_exporter": "python",
   "pygments_lexer": "ipython3",
   "version": "3.9.13"
  }
 },
 "nbformat": 4,
 "nbformat_minor": 5
}
